{
 "cells": [
  {
   "cell_type": "markdown",
   "metadata": {},
   "source": [
    "##Police Killings"
   ]
  },
  {
   "cell_type": "code",
   "execution_count": 1,
   "metadata": {
    "collapsed": true
   },
   "outputs": [],
   "source": [
    "import pandas as pd\n",
    "import matplotlib.pyplot as plt\n",
    "%matplotlib inline"
   ]
  },
  {
   "cell_type": "code",
   "execution_count": 39,
   "metadata": {
    "collapsed": true
   },
   "outputs": [],
   "source": [
    "kills = pd.read_csv(\"../data/the-counted-2015.csv\")"
   ]
  },
  {
   "cell_type": "code",
   "execution_count": 40,
   "metadata": {
    "collapsed": false
   },
   "outputs": [
    {
     "data": {
      "text/html": [
       "<div>\n",
       "<table border=\"1\" class=\"dataframe\">\n",
       "  <thead>\n",
       "    <tr style=\"text-align: right;\">\n",
       "      <th></th>\n",
       "      <th>uid</th>\n",
       "      <th>name</th>\n",
       "      <th>age</th>\n",
       "      <th>gender</th>\n",
       "      <th>raceethnicity</th>\n",
       "      <th>month</th>\n",
       "      <th>day</th>\n",
       "      <th>year</th>\n",
       "      <th>streetaddress</th>\n",
       "      <th>city</th>\n",
       "      <th>state</th>\n",
       "      <th>classification</th>\n",
       "      <th>lawenforcementagency</th>\n",
       "      <th>armed</th>\n",
       "    </tr>\n",
       "  </thead>\n",
       "  <tbody>\n",
       "    <tr>\n",
       "      <th>0</th>\n",
       "      <td>2</td>\n",
       "      <td>Matthew Ajibade</td>\n",
       "      <td>22</td>\n",
       "      <td>Male</td>\n",
       "      <td>Black</td>\n",
       "      <td>January</td>\n",
       "      <td>1</td>\n",
       "      <td>2015</td>\n",
       "      <td>1050 Carl Griffin Dr</td>\n",
       "      <td>Savannah</td>\n",
       "      <td>GA</td>\n",
       "      <td>Death in custody</td>\n",
       "      <td>Chatham County Sheriff's Office</td>\n",
       "      <td>No</td>\n",
       "    </tr>\n",
       "    <tr>\n",
       "      <th>1</th>\n",
       "      <td>4</td>\n",
       "      <td>Lewis Lembke</td>\n",
       "      <td>47</td>\n",
       "      <td>Male</td>\n",
       "      <td>White</td>\n",
       "      <td>January</td>\n",
       "      <td>2</td>\n",
       "      <td>2015</td>\n",
       "      <td>4505 SW Masters Loop</td>\n",
       "      <td>Aloha</td>\n",
       "      <td>OR</td>\n",
       "      <td>Gunshot</td>\n",
       "      <td>Washington County Sheriff's Office</td>\n",
       "      <td>Firearm</td>\n",
       "    </tr>\n",
       "    <tr>\n",
       "      <th>2</th>\n",
       "      <td>7</td>\n",
       "      <td>Tim Elliott</td>\n",
       "      <td>53</td>\n",
       "      <td>Male</td>\n",
       "      <td>Asian/Pacific Islander</td>\n",
       "      <td>January</td>\n",
       "      <td>2</td>\n",
       "      <td>2015</td>\n",
       "      <td>600 E Island Lake Dr</td>\n",
       "      <td>Shelton</td>\n",
       "      <td>WA</td>\n",
       "      <td>Gunshot</td>\n",
       "      <td>Mason County Sheriff's Office</td>\n",
       "      <td>Firearm</td>\n",
       "    </tr>\n",
       "    <tr>\n",
       "      <th>3</th>\n",
       "      <td>5</td>\n",
       "      <td>Michael Kocher Jr</td>\n",
       "      <td>19</td>\n",
       "      <td>Male</td>\n",
       "      <td>White</td>\n",
       "      <td>January</td>\n",
       "      <td>3</td>\n",
       "      <td>2015</td>\n",
       "      <td>2600 Kaumualii Hwy</td>\n",
       "      <td>Kaumakani</td>\n",
       "      <td>HI</td>\n",
       "      <td>Struck by vehicle</td>\n",
       "      <td>Kauai Police Department</td>\n",
       "      <td>No</td>\n",
       "    </tr>\n",
       "    <tr>\n",
       "      <th>4</th>\n",
       "      <td>6</td>\n",
       "      <td>John Quintero</td>\n",
       "      <td>23</td>\n",
       "      <td>Male</td>\n",
       "      <td>Hispanic/Latino</td>\n",
       "      <td>January</td>\n",
       "      <td>3</td>\n",
       "      <td>2015</td>\n",
       "      <td>500 North Oliver Ave</td>\n",
       "      <td>Wichita</td>\n",
       "      <td>KS</td>\n",
       "      <td>Gunshot</td>\n",
       "      <td>Wichita Police Department</td>\n",
       "      <td>No</td>\n",
       "    </tr>\n",
       "  </tbody>\n",
       "</table>\n",
       "</div>"
      ],
      "text/plain": [
       "   uid               name age gender           raceethnicity    month  day  \\\n",
       "0    2    Matthew Ajibade  22   Male                   Black  January    1   \n",
       "1    4       Lewis Lembke  47   Male                   White  January    2   \n",
       "2    7        Tim Elliott  53   Male  Asian/Pacific Islander  January    2   \n",
       "3    5  Michael Kocher Jr  19   Male                   White  January    3   \n",
       "4    6      John Quintero  23   Male         Hispanic/Latino  January    3   \n",
       "\n",
       "   year         streetaddress       city state     classification  \\\n",
       "0  2015  1050 Carl Griffin Dr   Savannah    GA   Death in custody   \n",
       "1  2015  4505 SW Masters Loop      Aloha    OR            Gunshot   \n",
       "2  2015  600 E Island Lake Dr    Shelton    WA            Gunshot   \n",
       "3  2015    2600 Kaumualii Hwy  Kaumakani    HI  Struck by vehicle   \n",
       "4  2015  500 North Oliver Ave    Wichita    KS            Gunshot   \n",
       "\n",
       "                 lawenforcementagency    armed  \n",
       "0     Chatham County Sheriff's Office       No  \n",
       "1  Washington County Sheriff's Office  Firearm  \n",
       "2       Mason County Sheriff's Office  Firearm  \n",
       "3             Kauai Police Department       No  \n",
       "4           Wichita Police Department       No  "
      ]
     },
     "execution_count": 40,
     "metadata": {},
     "output_type": "execute_result"
    }
   ],
   "source": [
    "kills.head()"
   ]
  },
  {
   "cell_type": "code",
   "execution_count": 41,
   "metadata": {
    "collapsed": false
   },
   "outputs": [
    {
     "data": {
      "text/html": [
       "<div>\n",
       "<table border=\"1\" class=\"dataframe\">\n",
       "  <thead>\n",
       "    <tr style=\"text-align: right;\">\n",
       "      <th></th>\n",
       "      <th>uid</th>\n",
       "      <th>day</th>\n",
       "      <th>year</th>\n",
       "    </tr>\n",
       "  </thead>\n",
       "  <tbody>\n",
       "    <tr>\n",
       "      <th>count</th>\n",
       "      <td>1145.000000</td>\n",
       "      <td>1145.000000</td>\n",
       "      <td>1145.0</td>\n",
       "    </tr>\n",
       "    <tr>\n",
       "      <th>mean</th>\n",
       "      <td>584.754585</td>\n",
       "      <td>15.635808</td>\n",
       "      <td>2015.0</td>\n",
       "    </tr>\n",
       "    <tr>\n",
       "      <th>std</th>\n",
       "      <td>338.474470</td>\n",
       "      <td>8.558883</td>\n",
       "      <td>0.0</td>\n",
       "    </tr>\n",
       "    <tr>\n",
       "      <th>min</th>\n",
       "      <td>2.000000</td>\n",
       "      <td>1.000000</td>\n",
       "      <td>2015.0</td>\n",
       "    </tr>\n",
       "    <tr>\n",
       "      <th>25%</th>\n",
       "      <td>291.000000</td>\n",
       "      <td>8.000000</td>\n",
       "      <td>2015.0</td>\n",
       "    </tr>\n",
       "    <tr>\n",
       "      <th>50%</th>\n",
       "      <td>583.000000</td>\n",
       "      <td>15.000000</td>\n",
       "      <td>2015.0</td>\n",
       "    </tr>\n",
       "    <tr>\n",
       "      <th>75%</th>\n",
       "      <td>879.000000</td>\n",
       "      <td>23.000000</td>\n",
       "      <td>2015.0</td>\n",
       "    </tr>\n",
       "    <tr>\n",
       "      <th>max</th>\n",
       "      <td>1169.000000</td>\n",
       "      <td>31.000000</td>\n",
       "      <td>2015.0</td>\n",
       "    </tr>\n",
       "  </tbody>\n",
       "</table>\n",
       "</div>"
      ],
      "text/plain": [
       "               uid          day    year\n",
       "count  1145.000000  1145.000000  1145.0\n",
       "mean    584.754585    15.635808  2015.0\n",
       "std     338.474470     8.558883     0.0\n",
       "min       2.000000     1.000000  2015.0\n",
       "25%     291.000000     8.000000  2015.0\n",
       "50%     583.000000    15.000000  2015.0\n",
       "75%     879.000000    23.000000  2015.0\n",
       "max    1169.000000    31.000000  2015.0"
      ]
     },
     "execution_count": 41,
     "metadata": {},
     "output_type": "execute_result"
    }
   ],
   "source": [
    "kills.describe()"
   ]
  },
  {
   "cell_type": "code",
   "execution_count": 42,
   "metadata": {
    "collapsed": false
   },
   "outputs": [
    {
     "data": {
      "text/plain": [
       "1145"
      ]
     },
     "execution_count": 42,
     "metadata": {},
     "output_type": "execute_result"
    }
   ],
   "source": [
    "len(kills)"
   ]
  },
  {
   "cell_type": "code",
   "execution_count": 43,
   "metadata": {
    "collapsed": false
   },
   "outputs": [
    {
     "data": {
      "text/plain": [
       "array(['Black', 'White', 'Asian/Pacific Islander', 'Hispanic/Latino',\n",
       "       'Unknown', 'Native American', 'Arab-American', 'Other'], dtype=object)"
      ]
     },
     "execution_count": 43,
     "metadata": {},
     "output_type": "execute_result"
    }
   ],
   "source": [
    "kills['raceethnicity'].unique()"
   ]
  },
  {
   "cell_type": "code",
   "execution_count": 44,
   "metadata": {
    "collapsed": false
   },
   "outputs": [
    {
     "data": {
      "text/plain": [
       "304"
      ]
     },
     "execution_count": 44,
     "metadata": {},
     "output_type": "execute_result"
    }
   ],
   "source": [
    "len(kills[kills.raceethnicity == \"Black\"])"
   ]
  },
  {
   "cell_type": "code",
   "execution_count": 45,
   "metadata": {
    "collapsed": false
   },
   "outputs": [
    {
     "data": {
      "text/plain": [
       "White                     582\n",
       "Black                     304\n",
       "Hispanic/Latino           195\n",
       "Asian/Pacific Islander     24\n",
       "Unknown                    22\n",
       "Native American            13\n",
       "Arab-American               4\n",
       "Other                       1\n",
       "Name: raceethnicity, dtype: int64"
      ]
     },
     "execution_count": 45,
     "metadata": {},
     "output_type": "execute_result"
    }
   ],
   "source": [
    "kills.raceethnicity.value_counts()"
   ]
  },
  {
   "cell_type": "code",
   "execution_count": 46,
   "metadata": {
    "collapsed": false
   },
   "outputs": [
    {
     "data": {
      "text/plain": [
       "CA    211\n",
       "TX    110\n",
       "FL     71\n",
       "AZ     44\n",
       "GA     39\n",
       "OK     38\n",
       "OH     37\n",
       "CO     32\n",
       "LA     28\n",
       "NC     26\n",
       "NY     25\n",
       "PA     24\n",
       "WA     23\n",
       "VA     23\n",
       "IL     23\n",
       "NJ     23\n",
       "MO     22\n",
       "NM     21\n",
       "IN     21\n",
       "SC     21\n",
       "TN     21\n",
       "MI     20\n",
       "NV     19\n",
       "AL     19\n",
       "KY     19\n",
       "MD     17\n",
       "OR     17\n",
       "MN     13\n",
       "MS     12\n",
       "WI     12\n",
       "WV     12\n",
       "KS     11\n",
       "UT     10\n",
       "MA     10\n",
       "NE      9\n",
       "ID      8\n",
       "DC      6\n",
       "WY      6\n",
       "HI      5\n",
       "AR      5\n",
       "AK      5\n",
       "IA      5\n",
       "MT      4\n",
       "CT      4\n",
       "DE      4\n",
       "NH      3\n",
       "ME      2\n",
       "SD      2\n",
       "ND      1\n",
       "RI      1\n",
       "VT      1\n",
       "Name: state, dtype: int64"
      ]
     },
     "execution_count": 46,
     "metadata": {},
     "output_type": "execute_result"
    }
   ],
   "source": [
    "kills.state.value_counts()"
   ]
  },
  {
   "cell_type": "code",
   "execution_count": 48,
   "metadata": {
    "collapsed": false
   },
   "outputs": [
    {
     "data": {
      "text/plain": [
       "Gunshot              1019\n",
       "Taser                  50\n",
       "Death in custody       41\n",
       "Struck by vehicle      34\n",
       "Other                   1\n",
       "Name: classification, dtype: int64"
      ]
     },
     "execution_count": 48,
     "metadata": {},
     "output_type": "execute_result"
    }
   ],
   "source": [
    "kills.classification.value_counts()"
   ]
  },
  {
   "cell_type": "code",
   "execution_count": 49,
   "metadata": {
    "collapsed": false
   },
   "outputs": [
    {
     "data": {
      "text/plain": [
       "'77'"
      ]
     },
     "execution_count": 49,
     "metadata": {},
     "output_type": "execute_result"
    }
   ],
   "source": [
    "kills[kills.raceethnicity == \"Black\"].age.max()"
   ]
  },
  {
   "cell_type": "code",
   "execution_count": null,
   "metadata": {
    "collapsed": true
   },
   "outputs": [],
   "source": []
  }
 ],
 "metadata": {
  "kernelspec": {
   "display_name": "Python 2",
   "language": "python",
   "name": "python2"
  },
  "language_info": {
   "codemirror_mode": {
    "name": "ipython",
    "version": 2
   },
   "file_extension": ".py",
   "mimetype": "text/x-python",
   "name": "python",
   "nbconvert_exporter": "python",
   "pygments_lexer": "ipython2",
   "version": "2.7.11"
  }
 },
 "nbformat": 4,
 "nbformat_minor": 0
}
