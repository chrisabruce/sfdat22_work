{
 "cells": [
  {
   "cell_type": "code",
   "execution_count": 27,
   "metadata": {
    "collapsed": true
   },
   "outputs": [],
   "source": [
    "import requests\n",
    "from bs4 import BeautifulSoup\n",
    "import pandas as pd\n"
   ]
  },
  {
   "cell_type": "code",
   "execution_count": null,
   "metadata": {
    "collapsed": true
   },
   "outputs": [],
   "source": [
    "##### INDEED #####\n",
    "\n",
    "# a job posting website (as well as resume hosting)\n",
    "# scrape some (or A LOT) of job postings from indeed for the job \"data scientist\"\n",
    "# Plan of Action:\n",
    "\n",
    "#http://www.indeed.com/jobs?q=<job>&l=<location>\n"
   ]
  },
  {
   "cell_type": "code",
   "execution_count": 6,
   "metadata": {
    "collapsed": false
   },
   "outputs": [],
   "source": [
    "# 1. Figure out the url for getting the summaries (by doing it yourself!)\n",
    "job = 'data scientist'\n",
    "location = 'San Francisco, CA'\n",
    "url = 'http://www.indeed.com/jobs?q=' + job + '&l=' + location\n",
    "r = requests.get(url)\n",
    "b = BeautifulSoup(r.text, \"html.parser\")"
   ]
  },
  {
   "cell_type": "code",
   "execution_count": 7,
   "metadata": {
    "collapsed": false
   },
   "outputs": [
    {
     "name": "stdout",
     "output_type": "stream",
     "text": [
      "How A Data Scientist Works. Work experience analyzing lots of data, for example in biotechnology, astrophysics or particle physics experiments, quantitative...\n",
      "Strong analytical background, at least a BS, and preferably an MS or PhD, degree in computer science, statistics or related quantitative field, with an emphasis...\n",
      "Senior Data Scientist with expertise in machine learning, artificial intelligence, statistical data analytics, and applications....\n",
      "\n",
      "We are looking for scientists who are passionate about creating data driven systems and have experience in statistical programming, machine learning, and use of...\n",
      "\n",
      "Our data scientists are exceptional thinkers, all in their own unique way. The Yammer Analytics team influences decision making across Microsoft by discovering...\n",
      "\n",
      "Our data scientists work on every aspect of the product — whether it's exploratory research to understand user behavior for riders and drivers, or running...\n",
      "\n",
      "Experience writing R or Python code and SQL queries. Locus Energy is looking for a talented and motivated Solar Data Engineer / Data Scientist to join our team...\n",
      "\n",
      "Use your experience in analytics tools and scientific rigor to produce actionable insights. As a Data Scientist at Square you will lead projects that derive...\n",
      "\n",
      "As a Data Scientist on Pinterest's Product Science team, you love data and want to use it to improve people’s lives....\n",
      "\n",
      "Competition experience in data mining or machine learning. As a Data Scientist you will:. Day to day, it’s a mix of machine learning, crowdsourcing, exploratory...\n",
      "\n",
      "Probability, statistics, data mining, predictive modeling, experimental design, computational analytics, econometric modeling....\n",
      "\n",
      "Past experience performing data analysis using R, Python, and/or SQL. As a Data Scientist at Blend you will analyze, visualize and model lending data....\n",
      "\n",
      "Clover Health is driving down costs and producing improved health outcomes with a unique health insurance plan....\n",
      "Along with the analytics and fleet monitoring teams, you will work on performance monitoring and reporting tools, as well as implement machine learning...\n",
      "SAS, R, SQL, S-Plus, etc.). Quickly understand patterns within large quantity of data and to reference key characteristics using visualization techniques....\n"
     ]
    }
   ],
   "source": [
    "# 2. Scrape the summary\n",
    "summaries = b.find_all('span', attrs={'class':'summary'})\n",
    "for summary in summaries:\n",
    "    print summary.text\n"
   ]
  },
  {
   "cell_type": "code",
   "execution_count": 21,
   "metadata": {
    "collapsed": false
   },
   "outputs": [
    {
     "name": "stdout",
     "output_type": "stream",
     "text": [
      "['test', u'How A Data Scientist Works. Work experience analyzing lots of data, for example in biotechnology, astrophysics or particle physics experiments, quantitative...', u'Strong analytical background, at least a BS, and preferably an MS or PhD, degree in computer science, statistics or related quantitative field, with an emphasis...', u'Senior Data Scientist with expertise in machine learning, artificial intelligence, statistical data analytics, and applications....', u'\\nMaintaining and improving some of our data pipeline, Machine Learning infrastructure and existing Machine Learning models using Spark, Scala, GraphX and MLLib....', u'\\nOr Master\\u2019s Degree in applied statistics, education research, economics, machine learning, data mining, or related quantitative discipline....', u'\\nOur team is made of software engineers, data scientists and financial industry veterans. Visualization, predictive analytics and personalization that enable...', u'\\nOur data scientists are exceptional thinkers, all in their own unique way. The Yammer Analytics team influences decision making across Microsoft by discovering...', u'\\nData Research Scientist. Advanced statistical modeling, machine learning, or data mining techniques. SQL for querying large data sets;...', u'\\nWe are looking for scientists who are passionate about creating data driven systems and have experience in statistical programming, machine learning, and use of...', u'\\nCompetition experience in data mining or machine learning. As a Data Scientist you will:. Day to day, it\\u2019s a mix of machine learning, crowdsourcing, exploratory...', u'\\nPast experience performing data analysis using R, Python, and/or SQL. As a Data Scientist at Blend you will analyze, visualize and model lending data....', u\"\\nAs a Data Scientist on Pinterest's Product Science team, you love data and want to use it to improve people\\u2019s lives....\", u'\\nAbl is looking for our first data scientist. Experience with entity solution, as well as statistical modeling and categorical data analysis....', u'Along with the analytics and fleet monitoring teams, you will work on performance monitoring and reporting tools, as well as implement machine learning...', u'SAS, R, SQL, S-Plus, etc.). Quickly understand patterns within large quantity of data and to reference key characteristics using visualization techniques....', u'SAS, R, SQL, S-Plus, etc.). Quickly understand patterns within large quantity of data and to reference key characteristics using visualization techniques....', u'Senior Data Scientist with expertise in machine learning, artificial intelligence, statistical data analytics, and applications....', u'\\nWe\\u2019re looking for a Data Scientist to help us build the first real-time cross-screen TV analytics platform that brings the power of online analytics to TV data....', u'\\nWork in a team of awesome data engineers and scientists to develop and evolve Radius next generation data processing platform and applications based on Spark...', u'\\nYou will join a team of engineers and data scientists, designing and implementing streaming, batch, and machine learning data pipelines which results will be...', u'\\nExpertise in predictive analytics modeling, machine learning and data mining. We are looking for an exceptional Data Scientist to apply big data analysis, data...', u'\\nWe are looking for driven and intelligent individuals to increase our data analytics capabilities, partnering with internal teams to answer questions and...', u'\\nDeep knowledge of machine learning, statistics, optimization or related field. Our agile team of engineers, scientists, and product managers work together to...', u'\\nThe Customer Intelligence team is made up of data scientists, data engineers, and business analysts who are dedicated to driving customer success using data...', u'\\nOur data scientists are not optimizing software; We work with big data at scale, advanced machine learning and predictive modeling to find buyers and predict...', u'\\nCombining evolutionary computation, deep learning and other AI techniques, running on one of the world\\u2019s largest computing grids, the Sentient platform enables...', u'\\nBS/MS/PhD CS, Machine Learning, Applied Math, Applied Stats, Physics or practical equivalent. Know how to translate human insight into machine scaled systems....', u'Strong analytical background, at least a BS, and preferably an MS or PhD, degree in computer science, statistics or related quantitative field, with an emphasis...', u'Along with the analytics and fleet monitoring teams, you will work on performance monitoring and reporting tools, as well as implement machine learning...', u'How A Data Scientist Works. Work experience analyzing lots of data, for example in biotechnology, astrophysics or particle physics experiments, quantitative...', u'Along with the analytics and fleet monitoring teams, you will work on performance monitoring and reporting tools, as well as implement machine learning...', u'Senior Data Scientist with expertise in machine learning, artificial intelligence, statistical data analytics, and applications....', u'\\nExperience with Python, R, or another data analysis langueage. Previous work with Tableau or other interactive data visualization platforms....', u'\\nHigh skill in data visualization (big plus). Strong skills in statistics, probability, and/or machine learning. Fluency in R, Python, or Julia....', u'\\nDesign and implement machine learning algorithms for retail analytics. Computer science, electrical engineering, physics, applied math, statistics, etc. ...', u'\\nThis is a unique challenge, requiring rigorous classification and segmentation of our debtors and a deep understanding of their needs and how to cater for them....', u'\\nPython, R, SQL. Premise is a mobile data and analytics platform bringing visibility to the world\\u2019s hardest-to-see places....', u'\\nData Research Scientist. Advanced statistical modeling, machine learning, or data mining techniques. SQL for querying large data sets;...', u'\\nGrammarly is looking for a hands-on data scientist. Experience with web analytics and tracking, such as Google Analytics and Mixpanel....', u'\\nData Scientists at Luxe use Machine Learning, Graph Theory, Statistics, Queueing Theory, or whatever other tools they can cobble together to design and...', u'\\nExperience developing analytical solutions including machine learning plug-ins. Eat, sleep, and breathe data. Partner with a group of engineers to architect and...', u'\\nAs a part of the Data Science team, you will develop algorithms that leverage multiple data sources to guide (amongst other things) our underwriting process,...', u'Strong analytical background, at least a BS, and preferably an MS or PhD, degree in computer science, statistics or related quantitative field, with an emphasis...', u'SAS, R, SQL, S-Plus, etc.). Quickly understand patterns within large quantity of data and to reference key characteristics using visualization techniques....', u'How A Data Scientist Works. Work experience analyzing lots of data, for example in biotechnology, astrophysics or particle physics experiments, quantitative...', u'Strong analytical background, at least a BS, and preferably an MS or PhD, degree in computer science, statistics or related quantitative field, with an emphasis...', u'Senior Data Scientist with expertise in machine learning, artificial intelligence, statistical data analytics, and applications....', u'Along with the analytics and fleet monitoring teams, you will work on performance monitoring and reporting tools, as well as implement machine learning...', u'\\nWork with data analysts and data engineers to productionalize especially valuable insights for regular consumption....', u'\\nWe\\u2019ve built the first real-time network for health data, making health data accessible and actionable for companies building valuable applications and...', u'\\nYou will help perform analysis to determine what is interesting and useful in sensor data, and design state-of-the-art machine learning algorithms to extract...', u'\\nRelations between the data, acquire additional data from sources such as. Data analysis & hypothesis testing. Experience with data analysis on real datasets....', u'\\nWe believe that better data is a critical part of the solution, and we\\u2019re looking for econometricians and/or health services researchers to join our team of...', u'\\nPassion for data and data mining. Fitbit is now a publicly-traded company creating award-winning products and services that are available across the globe....', u'\\nUsing Hadoop and related tools (Pig, Hive, Impala) to manage the analysis of billions of customer transaction records -Writing software to clean and investigate...', u'\\nFamiliarity with data warehouses/large datasets, data visualization, or gaming/e-commerce analytics. Anki is looking for a Data Scientist to work with data from...', u\"\\nWe're seeking an experienced Data Scientist who can perform quantitative analyses on KIXEYE's data. Uncover latent trends in user behavior by mining existing...\", u'\\nWe are looking for folks that are passionate about understanding data, are well versed in scalable data mining and machine learning techniques, and love to...', u'SAS, R, SQL, S-Plus, etc.). Quickly understand patterns within large quantity of data and to reference key characteristics using visualization techniques....', u'How A Data Scientist Works. Work experience analyzing lots of data, for example in biotechnology, astrophysics or particle physics experiments, quantitative...', u'Strong analytical background, at least a BS, and preferably an MS or PhD, degree in computer science, statistics or related quantitative field, with an emphasis...', u'Senior Data Scientist with expertise in machine learning, artificial intelligence, statistical data analytics, and applications....', u'Along with the analytics and fleet monitoring teams, you will work on performance monitoring and reporting tools, as well as implement machine learning...', u'\\nCombining evolutionary computation, deep learning and other AI techniques, running on one of the world\\u2019s largest computing grids, the Sentient platform enables...', u'\\n1+ years of experience in big data projects as a data scientist and 3-5 years of experience in data analytics and data science using other tools like R, SAS,...', u'\\nIn Computer Science, Engineering, Statistics, or other relevant technical fieldExperience with machine learning techniques and advanced analytics (e.g....', u'\\nHigh skill in data visualization (big plus). Strong skills in statistics, probability, and/or machine learning. Fluency in R, Python, or Julia....', u'\\nWork with product management, UX designers, and other data scientists to progress and iterate on the product quickly....', u'\\nAll candidates for employment will be considered without regard to race, color, religion, sex, gender identity, sexual orientation, national origin, physical or...', u'\\nAre you excited by the prospect of using big data analytics and machine learning to drive business growth? Leverage large amounts of complex, multi-dimensional...', u'\\nWork in technical teams in development, deployment, and application of applied analytics, predictive analytics, and prescriptive analytics....', u'\\n4+ years work experience analyzing ginormous datasets with SQL, R, SAS or other statistical package. Masters in Statistics, Analytics, Applied Math or...', u'\\nThe scientist must know how to use statistical methods, data mining, and machine learning to investigate and solve business problems, particularly in the sales...', u'SAS, R, SQL, S-Plus, etc.). Quickly understand patterns within large quantity of data and to reference key characteristics using visualization techniques....', u'How A Data Scientist Works. Work experience analyzing lots of data, for example in biotechnology, astrophysics or particle physics experiments, quantitative...', u'Along with the analytics and fleet monitoring teams, you will work on performance monitoring and reporting tools, as well as implement machine learning...', u'Senior Data Scientist with expertise in machine learning, artificial intelligence, statistical data analytics, and applications....', u'\\nThis position will report directly to the CTO and be responsible for supporting both bench and clinical scientists....', u'\\nPassion for data and data mining. Fitbit is now a publicly-traded company creating award-winning products and services that are available across the globe....', u'\\nExperience with web scale data and big data systems (e.g. You\\u2019ll apply human evaluation methods and user activity data trends to identify opportunities to...', u'\\nExpertise in data analytics, data mining, machine learning, and related fields. As a Research Scientist you will work with a team to conduct world-class...', u'\\nCollaborate with other engineers, data scientists, and product/business stakeholders Qualifications. Conduct data mining to unearth new insights....', u'\\nIdentifies new sources of data within the electronic medical record that will improve information about target diseases and clinical processes....', u'\\nExperience with data manipulation and analysis using SQL, noSQL, Java, C, SAS, and machine learning suites such as Mahout, Weka, and RapidMiner....', u'\\nJoin us for the opportunity to\\u2026\\u2026 Solve critical business problems and find deep insights using big / fast data \\u2026 Work across team boundaries to transform...', u'\\nTrue passion for leading, inspiring, and mentoring data scientists of all levels. Principal Modeling Analyst / Data Scientist....', u'\\nMaintaining and improving some of our data pipeline, Machine Learning infrastructure and existing Machine Learning models using Spark, Scala, GraphX and MLLib....', u'Strong analytical background, at least a BS, and preferably an MS or PhD, degree in computer science, statistics or related quantitative field, with an emphasis...', u'SAS, R, SQL, S-Plus, etc.). Quickly understand patterns within large quantity of data and to reference key characteristics using visualization techniques....', u'How A Data Scientist Works. Work experience analyzing lots of data, for example in biotechnology, astrophysics or particle physics experiments, quantitative...', u'Along with the analytics and fleet monitoring teams, you will work on performance monitoring and reporting tools, as well as implement machine learning...', u'Senior Data Scientist with expertise in machine learning, artificial intelligence, statistical data analytics, and applications....', u'\\nOr Master\\u2019s degree in computer science, statistics, physics, computational mathematics, machine learning, operations research, or a related quantitative...', u'\\nThe Process Data Scientist / R Programmer will develop R scripts to perform statistical analysis using Big Data sources with the end goal of successfully...', u'\\nWork in a team of awesome data engineers and scientists to develop and evolve Radius next generation data processing platform and applications based on Spark...', u'\\nWork with product managers and data scientists to analyze user behavior and identify patterns, trends, and variations that can inform product decisions....', u'\\nData Scientist / Applied Research Scientist. We are seeking a highly talented, creative, and passionate applied researchers to help us create the most relevant...', u'\\nPrevious applied knowledge of clinical research regulations, including IRB and data security policies and procedures....', u'\\nSpecific experience in financial modeling, data analytics, information quality control, and database development is preferred....', u'\\nAssist in the development of analytics tools and systems to help build out the analytics platform. Strong skills in Excel, SQL and statistics tools such as SAS,...', u'\\nScientific Researcher \\u2013 Next Gen Sequencing Scientist*. Demonstrates project planning and management skills to meet technical project deadlines....', u'\\nWe\\u2019ve built the first real-time network for health data, making health data accessible and actionable for companies building valuable applications and...', u'Strong analytical background, at least a BS, and preferably an MS or PhD, degree in computer science, statistics or related quantitative field, with an emphasis...', u'SAS, R, SQL, S-Plus, etc.). Quickly understand patterns within large quantity of data and to reference key characteristics using visualization techniques....', u'How A Data Scientist Works. Work experience analyzing lots of data, for example in biotechnology, astrophysics or particle physics experiments, quantitative...']\n"
     ]
    }
   ],
   "source": [
    "# 3. Figure out how to change the page by changing the URL (hint, click the next page button and see how the url changes)\n",
    "def get_all_summaries(job, location, limit=100):\n",
    "    url = 'http://www.indeed.com/jobs?q=' + job + '&l=' + location\n",
    "    summaries = ['test']\n",
    "    page_listings_count = 0\n",
    "    while(True):\n",
    "        r = requests.get(url + '&start=' + str(page_listings_count))\n",
    "        b = BeautifulSoup(r.text, \"html.parser\")\n",
    "        s = b.find_all('span', attrs={'class':'summary'})\n",
    "        if len(s) > 0 and page_listings_count < limit:\n",
    "            page_listings_count += len(s)\n",
    "            for t in s:\n",
    "                summaries.append(t.text)\n",
    "        else:\n",
    "            break\n",
    "            \n",
    "    return summaries\n",
    "\n",
    "print(get_all_summaries('data scientist', 'san francisco, ca'))\n",
    "\n"
   ]
  },
  {
   "cell_type": "code",
   "execution_count": 22,
   "metadata": {
    "collapsed": false
   },
   "outputs": [
    {
     "name": "stdout",
     "output_type": "stream",
     "text": [
      "['test', u'How A Data Scientist Works. Work experience analyzing lots of data, for example in biotechnology, astrophysics or particle physics experiments, quantitative...', u'Senior Data Scientist with expertise in machine learning, artificial intelligence, statistical data analytics, and applications....', u'Work closely with data scientists and engineers to design and maintain scalable data models and pipelines....', u'\\nOur team is made of software engineers, data scientists and financial industry veterans. Visualization, predictive analytics and personalization that enable...', u'\\nDevelop and communicate a deep understanding of lifecycle marketing needs, perform analytical deep-dives to identify problems, opportunities and specific...', u'\\nOr Master\\u2019s Degree in applied statistics, education research, economics, machine learning, data mining, or related quantitative discipline....', u'\\nOur data scientists are exceptional thinkers, all in their own unique way. The Yammer Analytics team influences decision making across Microsoft by discovering...', u'\\nInfluences clinical development plans and global medical affairs plans under the leadership of senior RWD scientists....', u'\\nData Research Scientist. Advanced statistical modeling, machine learning, or data mining techniques. SQL for querying large data sets;...', u'\\nCompetition experience in data mining or machine learning. As a Data Scientist you will:. Day to day, it\\u2019s a mix of machine learning, crowdsourcing, exploratory...', u'\\nAbl is looking for our first data scientist. Experience with entity solution, as well as statistical modeling and categorical data analysis....', u'\\nPast experience performing data analysis using R, Python, and/or SQL. As a Data Scientist at Blend you will analyze, visualize and model lending data....', u'\\nWe are looking for scientists who are passionate about creating data driven systems and have experience in statistical programming, machine learning, and use of...', u'Along with the analytics and fleet monitoring teams, you will work on performance monitoring and reporting tools, as well as implement machine learning...', u'1+ years of experience in big data projects as a data scientist and 3-5 years of experience in data analytics and data science using other tools like R, SAS,...', u'1+ years of experience in big data projects as a data scientist and 3-5 years of experience in data analytics and data science using other tools like R, SAS,...', u'Work closely with data scientists and engineers to design and maintain scalable data models and pipelines....', u'\\nEconomist / Data Scientist. Recognize that sometimes (If not most times) the simple solution is the best solution....', u'\\nWe are looking for driven and intelligent individuals to increase our data analytics capabilities, partnering with internal teams to answer questions and...', u'\\nSenior Data Scientist. Asurion is seeking a Data Scientist to join our Data Science team. Design large scale models using Logistic Regression, Decision Trees,...', u'\\nInfluences clinical development plans and global medical affairs plans under the leadership of senior RWD scientists....', u'\\nExperience developing analytical solutions including machine learning plug-ins. Eat, sleep, and breathe data. Partner with a group of engineers to architect and...', u'\\nThe Customer Intelligence team is made up of data scientists, data engineers, and business analysts who are dedicated to driving customer success using data...', u'\\nUsing Hadoop and related tools (Pig, Hive, Impala) to manage the analysis of billions of customer transaction records -Writing software to clean and investigate...', u'\\nWork with product managers and data scientists to analyze user behavior and identify patterns, trends, and variations that can inform product decisions....', u'\\n3+ years of professional experience with modeling and analysis, statistics, computational linguistics/NLP, machine learning, and/or large-scale data mining....', u'\\nAuthoritative quantitative analysis skills, particularly in machine learning, multivariate statistical modeling, and data mining....', u'Senior Data Scientist with expertise in machine learning, artificial intelligence, statistical data analytics, and applications....', u'Along with the analytics and fleet monitoring teams, you will work on performance monitoring and reporting tools, as well as implement machine learning...', u'How A Data Scientist Works. Work experience analyzing lots of data, for example in biotechnology, astrophysics or particle physics experiments, quantitative...', u'Along with the analytics and fleet monitoring teams, you will work on performance monitoring and reporting tools, as well as implement machine learning...', u'Work closely with data scientists and engineers to design and maintain scalable data models and pipelines....', u'\\nAs a Machine Learning expert, you will have an unique opportunity to have high impact by advancing these systems, as well as uncovering new opportunities to...', u'\\nThe Customer Intelligence team is made up of data scientists, data engineers, and business analysts who are dedicated to driving customer success using data...', u'\\nThe role will involve applying innovative statistical techniques to very large sets of financial data to find patterns in the noise and then turn these signals...', u'\\nYou will join a team of engineers and data scientists, designing and implementing streaming, batch, and machine learning data pipelines which results will be...', u'\\nYou will be working with team of data scientists responsible for providing insights to the finance leadership to make financial decisions....', u'\\nExpertise in predictive analytics modeling, machine learning and data mining. We are looking for an exceptional Data Scientist to apply big data analysis, data...', u'\\nIn this role you will work with our talented and growing team of Data Scientists and Data Analysts to plan, execute, and deliver actionable analytic insights to...', u'\\nSenior Data Scientist. Asurion is seeking a Data Scientist to join our Data Science team. Design large scale models using Logistic Regression, Decision Trees,...', u'\\n1+ years of experience in big data projects as a data scientist and 3-5 years of experience in data analytics and data science using other tools like R, SAS,...', u'\\nThis position will report directly to the CTO and be responsible for supporting both bench and clinical scientists....', u'Senior Data Scientist with expertise in machine learning, artificial intelligence, statistical data analytics, and applications....', u'1+ years of experience in big data projects as a data scientist and 3-5 years of experience in data analytics and data science using other tools like R, SAS,...', u'How A Data Scientist Works. Work experience analyzing lots of data, for example in biotechnology, astrophysics or particle physics experiments, quantitative...', u'Senior Data Scientist with expertise in machine learning, artificial intelligence, statistical data analytics, and applications....', u'Work closely with data scientists and engineers to design and maintain scalable data models and pipelines....', u'Along with the analytics and fleet monitoring teams, you will work on performance monitoring and reporting tools, as well as implement machine learning...', u'\\nDesign and implement machine learning, analytics, and data mining algorithms applied to understanding and predicting the behavior of users....', u\"\\nEndless ideas about how to leverage Yelp's unique data set. Interested in applying? In this role you\\u2019ll be tackling a variety of projects ranging from design...\", u'\\n3+ years of professional experience with modeling and analysis, statistics, computational linguistics/NLP, machine learning, and/or large-scale data mining....', u'\\nData Scientist, Expert*. Experience is collecting data from various data sources with different data platforms....', u'\\nWe are looking for folks that are passionate about understanding data, are well versed in scalable data mining and machine learning techniques, and love to...', u'\\nOur ideal candidate is a self-motivated data modeler and machine learning specialist with the desire to make an immediate impact....', u'\\nAs a data scientist intern, you will work alongside our small team of data scientists and engineers to improve our core technology and better serve our...', u'\\nWork with product managers and data scientists to analyze user behavior and identify patterns, trends, and variations that can inform product decisions....', u'\\nEconomist / Data Scientist. Recognize that sometimes (If not most times) the simple solution is the best solution....', u'\\nData Scientist / Applied Research Scientist. We are seeking a highly talented, creative, and passionate applied researchers to help us create the most relevant...', u'1+ years of experience in big data projects as a data scientist and 3-5 years of experience in data analytics and data science using other tools like R, SAS,...', u'How A Data Scientist Works. Work experience analyzing lots of data, for example in biotechnology, astrophysics or particle physics experiments, quantitative...', u'Senior Data Scientist with expertise in machine learning, artificial intelligence, statistical data analytics, and applications....', u'Work closely with data scientists and engineers to design and maintain scalable data models and pipelines....', u'Along with the analytics and fleet monitoring teams, you will work on performance monitoring and reporting tools, as well as implement machine learning...', u'\\nLeveraging decades of innovative work in human-computer interaction, scalable data management, and machine learning, Trifacta\\u2019s unique Predictive Interaction...', u'\\nProgramming competency in R or Python, and SQL. In a quantitative field such as applied mathematics, statistics, economics, operations research, engineering, or...', u'\\nExperience developing analytical solutions including machine learning plug-ins. Eat, sleep, and breathe data. Partner with a group of engineers to architect and...', u'\\nExperience with data manipulation and analysis using SQL, noSQL, Java, C, SAS, and machine learning suites such as Mahout, Weka, and RapidMiner....', u'\\nPassion for data and data mining. Fitbit is now a publicly-traded company creating award-winning products and services that are available across the globe....', u'\\nDeep knowledge of machine learning, statistics, optimization or related field. Our agile team of engineers, scientists, and product managers work together to...', u'\\nThe Data Scientist function enables and empowers macys.com marketing and site personalization with reporting, predictive modeling, forecasting, data mining,...', u'\\nSenior Data Scientist. Asurion is seeking a Data Scientist to join our Data Science team. Design large scale models using Logistic Regression, Decision Trees,...', u'\\nAre you excited by the prospect of using big data analytics and machine learning to drive business growth? Leverage large amounts of complex, multi-dimensional...', u'\\nThe Rodan + Fields Business Intelligence and Analytics Department is looking for a Data Scientist to join the Advanced Analytics team....', u'1+ years of experience in big data projects as a data scientist and 3-5 years of experience in data analytics and data science using other tools like R, SAS,...', u'How A Data Scientist Works. Work experience analyzing lots of data, for example in biotechnology, astrophysics or particle physics experiments, quantitative...', u'Along with the analytics and fleet monitoring teams, you will work on performance monitoring and reporting tools, as well as implement machine learning...', u'Work closely with data scientists and engineers to design and maintain scalable data models and pipelines....', u'\\nPython, R, SQL. Premise is a mobile data and analytics platform bringing visibility to the world\\u2019s hardest-to-see places....', u'\\nContributing member of Machine Learning & Predictive User Experience team. Develop software for a production automotive project....', u'\\nBS/MS/PhD CS, Machine Learning, Applied Math, Applied Stats, Physics or practical equivalent. Know how to translate human insight into machine scaled systems....', u'\\nMachine Learning Data Scientists on the China Growth Data Science team work closely with product, engineer, marketing and operation teams in China to tackle...', u'\\nStrong understanding of Algorithms, Data Structures and Machine Learning / Data Mining. Experience with Machine Learning / Data Mining open source tools,...', u'\\nExperience is collecting data from various data sources with different data platforms. Expertise in quantitative electricity and gas utility cost modeling...', u'\\nIn the Data Products team, we build ad products that utilize the latest advances in predictive analytics, machine learning, and low latency ad serving platform...', u'\\nFrom learning and development and commuter stipends, to a competitive salary, equity, and health benefits, we\\u2019ve got you covered!...', u'\\nWe are hiring a Data Analytics Manager, Pre-Sales Data Scientist with an analytics background and about 5 years experience in deployment of analytics solutions...', u'\\nApplied experience in visualization of data and analysis results (e.g. Understanding of private and public RWD sources and experience in applying RWD to an...', u'Senior Data Scientist with expertise in machine learning, artificial intelligence, statistical data analytics, and applications....', u'1+ years of experience in big data projects as a data scientist and 3-5 years of experience in data analytics and data science using other tools like R, SAS,...', u'How A Data Scientist Works. Work experience analyzing lots of data, for example in biotechnology, astrophysics or particle physics experiments, quantitative...', u'Along with the analytics and fleet monitoring teams, you will work on performance monitoring and reporting tools, as well as implement machine learning...', u'Work closely with data scientists and engineers to design and maintain scalable data models and pipelines....', u'\\nApplied experience in visualization of data and analysis results (e.g. Understanding of private and public RWD sources and experience in applying RWD to an...', u'\\nWe are looking for experienced Data Scientists to join our team and expand upon the work we have done. We have a strong team of Data Scientists, our work is...', u'\\nHelp build and manage teams of data scientists and analysts. Mentor less-experienced members of the team toward becoming better data scientists....', u'\\nCompetition experience in data mining or machine learning You love delighting customers with honest, transparent products and experiences....', u'\\nWe are hiring a Data Analytics Manager, Pre-Sales Data Scientist with an analytics background and about 5 years experience in deployment of analytics solutions...', u'\\nWork in technical teams in development, deployment, and application of applied analytics, predictive analytics, and prescriptive analytics....', u'\\nThis dynamic and challenging role will provide you with the chance to have major impact and drive action as the team continues to maximize riders and drivers on...', u\"\\nWe're looking for a data scientist who shares our enthusiasm for applying big data to help farmers! Excellent data visualization skills....\", u'\\nColor engineers build systems to scale the availability and use of genetic data to millions of people. Color provides a high-quality, physician-ordered, genetic...', u'\\nThis company combines examining hardware as well as working with patients in a clinical setting. Additionally, understanding neurological data is a huge plus....', u'Senior Data Scientist with expertise in machine learning, artificial intelligence, statistical data analytics, and applications....', u'1+ years of experience in big data projects as a data scientist and 3-5 years of experience in data analytics and data science using other tools like R, SAS,...', u'How A Data Scientist Works. Work experience analyzing lots of data, for example in biotechnology, astrophysics or particle physics experiments, quantitative...']\n"
     ]
    }
   ],
   "source": [
    "# 4. BONUS: count the most used words in the sumaries\n",
    "summaries = get_all_summaries('data scientist', 'san francisco, ca')\n",
    "print summaries"
   ]
  },
  {
   "cell_type": "code",
   "execution_count": 34,
   "metadata": {
    "collapsed": false
   },
   "outputs": [
    {
     "data": {
      "text/html": [
       "<div>\n",
       "<table border=\"1\" class=\"dataframe\">\n",
       "  <thead>\n",
       "    <tr style=\"text-align: right;\">\n",
       "      <th></th>\n",
       "      <th>word</th>\n",
       "      <th>count</th>\n",
       "    </tr>\n",
       "  </thead>\n",
       "  <tbody>\n",
       "    <tr>\n",
       "      <th>264</th>\n",
       "      <td>and</td>\n",
       "      <td>141</td>\n",
       "    </tr>\n",
       "    <tr>\n",
       "      <th>145</th>\n",
       "      <td>data</td>\n",
       "      <td>108</td>\n",
       "    </tr>\n",
       "    <tr>\n",
       "      <th>539</th>\n",
       "      <td>of</td>\n",
       "      <td>62</td>\n",
       "    </tr>\n",
       "    <tr>\n",
       "      <th>439</th>\n",
       "      <td>in</td>\n",
       "      <td>54</td>\n",
       "    </tr>\n",
       "    <tr>\n",
       "      <th>12</th>\n",
       "      <td>to</td>\n",
       "      <td>49</td>\n",
       "    </tr>\n",
       "    <tr>\n",
       "      <th>245</th>\n",
       "      <td>Data</td>\n",
       "      <td>47</td>\n",
       "    </tr>\n",
       "    <tr>\n",
       "      <th>573</th>\n",
       "      <td>with</td>\n",
       "      <td>43</td>\n",
       "    </tr>\n",
       "    <tr>\n",
       "      <th>147</th>\n",
       "      <td>a</td>\n",
       "      <td>36</td>\n",
       "    </tr>\n",
       "    <tr>\n",
       "      <th>131</th>\n",
       "      <td>machine</td>\n",
       "      <td>36</td>\n",
       "    </tr>\n",
       "    <tr>\n",
       "      <th>438</th>\n",
       "      <td>experience</td>\n",
       "      <td>35</td>\n",
       "    </tr>\n",
       "    <tr>\n",
       "      <th>292</th>\n",
       "      <td>the</td>\n",
       "      <td>32</td>\n",
       "    </tr>\n",
       "    <tr>\n",
       "      <th>588</th>\n",
       "      <td>as</td>\n",
       "      <td>31</td>\n",
       "    </tr>\n",
       "    <tr>\n",
       "      <th>542</th>\n",
       "      <td>Scientist</td>\n",
       "      <td>25</td>\n",
       "    </tr>\n",
       "    <tr>\n",
       "      <th>361</th>\n",
       "      <td>analytics</td>\n",
       "      <td>24</td>\n",
       "    </tr>\n",
       "    <tr>\n",
       "      <th>519</th>\n",
       "      <td>for</td>\n",
       "      <td>21</td>\n",
       "    </tr>\n",
       "  </tbody>\n",
       "</table>\n",
       "</div>"
      ],
      "text/plain": [
       "           word  count\n",
       "264         and    141\n",
       "145        data    108\n",
       "539          of     62\n",
       "439          in     54\n",
       "12           to     49\n",
       "245        Data     47\n",
       "573        with     43\n",
       "147           a     36\n",
       "131     machine     36\n",
       "438  experience     35\n",
       "292         the     32\n",
       "588          as     31\n",
       "542   Scientist     25\n",
       "361   analytics     24\n",
       "519         for     21"
      ]
     },
     "execution_count": 34,
     "metadata": {},
     "output_type": "execute_result"
    }
   ],
   "source": [
    "word_counts = {}\n",
    "for summary in summaries:\n",
    "    words = summary.split()\n",
    "    for word in words:\n",
    "        if word_counts.has_key(word):\n",
    "            word_counts[word] += 1\n",
    "        else:\n",
    "            word_counts[word] = 1\n",
    "df_words = pd.DataFrame(word_counts.items(), columns=['word', 'count'])\n",
    "df_words.sort_values(by='count', ascending=False).head(15)"
   ]
  },
  {
   "cell_type": "code",
   "execution_count": null,
   "metadata": {
    "collapsed": true
   },
   "outputs": [],
   "source": []
  },
  {
   "cell_type": "code",
   "execution_count": null,
   "metadata": {
    "collapsed": true
   },
   "outputs": [],
   "source": []
  },
  {
   "cell_type": "code",
   "execution_count": null,
   "metadata": {
    "collapsed": true
   },
   "outputs": [],
   "source": [
    "#### UFO ######\n",
    "\n",
    "# SCRAPE ALL SIGHTINGS in 2015\n",
    "# Plan of action\n",
    "# 1. Figure out the pattern to get a certain year and month from nuforc\n",
    "# 2. Scrape each sightings\n",
    "# 3. Make a dataframe out of it\n",
    "# 4. make a day column\n",
    "# 5. graph each day in 2015 and see which day had the most! (Is it July 4th?)"
   ]
  },
  {
   "cell_type": "code",
   "execution_count": null,
   "metadata": {
    "collapsed": true
   },
   "outputs": [],
   "source": [
    "##### TWITTER ######\n",
    "\n",
    "# Create a dataframe where each row is a tweet that uses any tag you choose!\n",
    "# include a column for date, text, user handle, user name, and user image\n",
    "# You can use the normal query method and not stream for this!"
   ]
  }
 ],
 "metadata": {
  "kernelspec": {
   "display_name": "Python 2",
   "language": "python",
   "name": "python2"
  },
  "language_info": {
   "codemirror_mode": {
    "name": "ipython",
    "version": 2
   },
   "file_extension": ".py",
   "mimetype": "text/x-python",
   "name": "python",
   "nbconvert_exporter": "python",
   "pygments_lexer": "ipython2",
   "version": "2.7.11"
  }
 },
 "nbformat": 4,
 "nbformat_minor": 0
}
